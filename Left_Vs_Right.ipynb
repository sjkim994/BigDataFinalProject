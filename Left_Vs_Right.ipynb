{
 "cells": [
  {
   "cell_type": "code",
   "execution_count": 1,
   "metadata": {},
   "outputs": [],
   "source": [
    "import pandas as pd\n",
    "import json\n",
    "\n",
    "file_path = '/Users/jamestreadwell/CompAnalysis/BigDataFinalProject/signalmedia-1m.jsonl'\n",
    "\n",
    "left_sources = {\"cnn\", \"the new york times\", \"vox.com\", \"msnbc\", \"buzzfeed\", \"the new yorker: news\"}\n",
    "right_sources = {\"fox news\", \"breitbart.com\", \"theblaze.com - stories\", \"cbn.com - cbn news\", \"daily caller\", \"daily mail\", \"newsmax.com\", \"new york post\", \"the american conservative \\u00bb daniel larison\", \"infowars\", \"redstate\", \"national review\"}\n",
    "\n",
    "left_rows = []\n",
    "right_rows = []\n",
    "\n",
    "with open(file_path, 'r') as file:\n",
    "    for line in file:\n",
    "        entry = json.loads(line)\n",
    "        if entry.get('source', '').lower().strip() in left_sources:\n",
    "            left_rows.append(entry)\n",
    "        if entry.get('source', '').lower().strip() in right_sources:\n",
    "            right_rows.append(entry)\n",
    "        if len(left_rows) + len(right_rows) >= 3000:\n",
    "            break\n",
    "\n",
    "left_data = pd.DataFrame(left_rows)\n",
    "right_data = pd.DataFrame(right_rows)\n",
    "\n",
    "combined_data = pd.concat([left_data, right_data], ignore_index=True)"
   ]
  },
  {
   "cell_type": "code",
   "execution_count": 10,
   "metadata": {},
   "outputs": [
    {
     "name": "stdout",
     "output_type": "stream",
     "text": [
      "                                     id  \\\n",
      "0  693ae030-4239-4291-b248-dbf7c1696ff2   \n",
      "1  e7157bbf-6ad4-477d-a4e4-14a0bb9ad9f5   \n",
      "2  0ef6b514-620d-4e8a-9405-e390e16c6cd7   \n",
      "3  96b993b2-320f-457a-bab2-6bc214c05013   \n",
      "4  c3a3224d-bae5-40e3-80f6-0ca74083beaf   \n",
      "\n",
      "                                             content  \\\n",
      "0  Georgia is set to execute its only woman on de...   \n",
      "1  Story highlights Family posts, \"We are devasta...   \n",
      "2  Obama dropped in on \"The Late Show with Stephe...   \n",
      "3  Story highlights Estonia, a neighbor of Russia...   \n",
      "4  Story highlights Swiss prosecutors open crimin...   \n",
      "\n",
      "                                               title media-type    source  \\\n",
      "0  Georgia Plans To Execute Its Only Woman On Dea...       News  BuzzFeed   \n",
      "1               'Senseless loss of a beautiful life'       News       CNN   \n",
      "2  Michelle Obama gives Stephen Colbert advice fo...       News       CNN   \n",
      "3                U.S. stealth fighters visit Estonia       News       CNN   \n",
      "4      FIFA boss Blatter facing criminal proceedings       News       CNN   \n",
      "\n",
      "              published  \n",
      "0  2015-09-28T22:24:29Z  \n",
      "1  2015-09-07T19:48:15Z  \n",
      "2  2015-09-29T10:33:00Z  \n",
      "3  2015-09-07T18:09:09Z  \n",
      "4  2015-09-25T16:38:47Z  \n"
     ]
    }
   ],
   "source": [
    "##print(combined_data[['content', 'source']].head())\n",
    "print(combined_data.head())"
   ]
  },
  {
   "cell_type": "code",
   "execution_count": 12,
   "metadata": {},
   "outputs": [
    {
     "name": "stdout",
     "output_type": "stream",
     "text": [
      "Georgia is set to execute its only woman on death row Tuesday evening. If all goes according to the state’s plan, Kelly Gissendaner will be the first woman the state has executed in 70 years. She was sentenced to death in 1998 for plotting the death of her husband, Douglas Gissendaner, with her boyfriend. \n",
      " \n",
      "Gissendaner drove her boyfriend, Gregory Owen, to her house, gave him the murder weapons — a nightstick and a hunting knife — and then went to a nightclub with friends, according to court documents. Owen ambushed Douglas and forced him to drive his car to a remote location that Gissendaner chose beforehand. \n",
      " \n",
      "Once they arrived, Owen beat Douglas and stabbed him. Owen took Douglas’s wedding ring and watch to make it look like a robbery. Gissendaner later arrived at the scene and helped her boyfriend burn her husband’s body and car. Law enforcement was unable to find Douglas’s body for weeks. \n",
      "   \n",
      "Owen accepted a plea deal and testified against Gissendaner. In exchange, he received a life sentence without the possibility of parole. Gissendaner refused to take a plea and lost when she went to trial. \n",
      " \n",
      "As Gissendaner’s execution date nears, two of her and Douglas’s children are calling for her life to be spared. \n",
      "   “We’ve lost our dad. We can’t imagine losing our mom too,” daughter Kayla Gissendaner said.  \n",
      " youtube.com \n",
      "   \n",
      "In response, Gwinnett County District Attorney Danny Porter told the Atlanta Journal-Constitution that it was “manipulation.” \n",
      " \n",
      "“The case began with manipulation by Kelly Gissendaner and it appears it will end with manipulation by Kelly Gissendaner,” he said, adding that Douglas’s parents have wanted the execution to go forward. \n",
      " \n",
      "On Monday, the Georgia Board of Pardons and Paroles announced that it will meet on Tuesday to “receive and consider supplemental information” about the case. Previously, the board had denied clemency. The board has the option to allow the denial of clemency to stay, to grant a stay of up to 90 days, or to grant clemency. The board has the sole authority to grant clemency in Georgia. \n",
      " \n",
      "This is the third time the state has set an execution date for Gissendaner. The first time, it was called off because of the weather. The second time, it was called off after the execution drugs were found to have particles floating in them. \n",
      "           \n",
      "View this image › \n",
      "  \n",
      "Georgia’s pentobarbital on the date it was scheduled to be used.  Georgia Department of Corrections \n",
      "   \n",
      "Georgia, like some other death penalty states, obtains its execution drugs from a compounding pharmacy that mixes the drug up in secret. \n",
      " \n",
      "The state concluded that the likeliest cause was that the drugs were stored at too cold of a temperature, although its expert floated the possibility that there was a problem with how it was mixed, and the state attempted to withhold test results that disagreed with its narrative. \n",
      " \n",
      "Gissendaner’s attorneys argued that the hours she waited not knowing if the “cloudy” drugs would be used on her amounted to cruel and unusual punishment, and that it showed the state was likely to use questionable drugs on her in the future. \n",
      " \n",
      "But U.S. District Judge Thomas Thrash disagreed, finding that the state “did not intentionally subject [her] to uncertainty for the sake of inflicting more pain upon her.” \n",
      " \n",
      "“It is not enough to show that the State may obtain defective lethal injection drugs,” the judge wrote when he dismissed the case in August. Gissendaner “must show that there is a substantial risk that the defective drugs will be used on” her in the future. \n",
      " \n",
      "He added that “if anything, the March 2 incident shows that the state is unlikely to use defective drugs on” her. \n",
      " \n",
      "Gissendaner asked him to reconsider his ruling, which the judge declined to do. On Monday, Gissendaner notified the court that she was appealing the decision to the 11th Circuit Court of Appeals. \n",
      " \n",
      "Georgia intends to use compounded drugs again, but this time plans on storing the drugs in a new refrigeration unit to regulate its temperature. \n",
      " \n",
      "Gissendaner also has a petition at the Supreme Court seeking a stay of execution based on her claim that prison officials violated her rights by having “thwarted” the clemency process. \n",
      " \n",
      "Claiming that officials “actively frustrated the [clemency] procedures established by Georgia law,” Gissendaner’s lawyers write that such actions violated her constitutional due process rights. \n",
      "   \n",
      "Check out more articles on BuzzFeed.com!\n"
     ]
    }
   ],
   "source": [
    "import nltk\n",
    "from nltk.tokenize import sent_tokenize, word_tokenize\n",
    "\n",
    "combined_text = combined_data['content'].tolist()\n",
    "test_text = combined_data.iloc[0]['content']\n",
    "\n",
    "print(test_text)\n"
   ]
  },
  {
   "cell_type": "code",
   "execution_count": 14,
   "metadata": {},
   "outputs": [
    {
     "name": "stderr",
     "output_type": "stream",
     "text": [
      "[nltk_data] Downloading package punkt to\n",
      "[nltk_data]     /Users/jamestreadwell/nltk_data...\n",
      "[nltk_data]   Unzipping tokenizers/punkt.zip.\n"
     ]
    },
    {
     "data": {
      "text/plain": [
       "True"
      ]
     },
     "execution_count": 14,
     "metadata": {},
     "output_type": "execute_result"
    }
   ],
   "source": [
    "nltk.download('punkt')\n"
   ]
  },
  {
   "cell_type": "code",
   "execution_count": 17,
   "metadata": {},
   "outputs": [
    {
     "ename": "LookupError",
     "evalue": "\n**********************************************************************\n  Resource \u001b[93mpunkt_tab\u001b[0m not found.\n  Please use the NLTK Downloader to obtain the resource:\n\n  \u001b[31m>>> import nltk\n  >>> nltk.download('punkt_tab')\n  \u001b[0m\n  For more information see: https://www.nltk.org/data.html\n\n  Attempted to load \u001b[93mtokenizers/punkt_tab/english/\u001b[0m\n\n  Searched in:\n    - '/Users/jamestreadwell/nltk_data'\n    - '/Library/Frameworks/Python.framework/Versions/3.12/nltk_data'\n    - '/Library/Frameworks/Python.framework/Versions/3.12/share/nltk_data'\n    - '/Library/Frameworks/Python.framework/Versions/3.12/lib/nltk_data'\n    - '/usr/share/nltk_data'\n    - '/usr/local/share/nltk_data'\n    - '/usr/lib/nltk_data'\n    - '/usr/local/lib/nltk_data'\n**********************************************************************\n",
     "output_type": "error",
     "traceback": [
      "\u001b[0;31m---------------------------------------------------------------------------\u001b[0m",
      "\u001b[0;31mLookupError\u001b[0m                               Traceback (most recent call last)",
      "Cell \u001b[0;32mIn[17], line 1\u001b[0m\n\u001b[0;32m----> 1\u001b[0m test_tokenized \u001b[38;5;241m=\u001b[39m \u001b[43mword_tokenize\u001b[49m\u001b[43m(\u001b[49m\u001b[43mtest_text\u001b[49m\u001b[43m)\u001b[49m\n\u001b[1;32m      3\u001b[0m \u001b[38;5;28mprint\u001b[39m(test_tokenized)\n",
      "File \u001b[0;32m/Library/Frameworks/Python.framework/Versions/3.12/lib/python3.12/site-packages/nltk/tokenize/__init__.py:142\u001b[0m, in \u001b[0;36mword_tokenize\u001b[0;34m(text, language, preserve_line)\u001b[0m\n\u001b[1;32m    127\u001b[0m \u001b[38;5;28;01mdef\u001b[39;00m \u001b[38;5;21mword_tokenize\u001b[39m(text, language\u001b[38;5;241m=\u001b[39m\u001b[38;5;124m\"\u001b[39m\u001b[38;5;124menglish\u001b[39m\u001b[38;5;124m\"\u001b[39m, preserve_line\u001b[38;5;241m=\u001b[39m\u001b[38;5;28;01mFalse\u001b[39;00m):\n\u001b[1;32m    128\u001b[0m \u001b[38;5;250m    \u001b[39m\u001b[38;5;124;03m\"\"\"\u001b[39;00m\n\u001b[1;32m    129\u001b[0m \u001b[38;5;124;03m    Return a tokenized copy of *text*,\u001b[39;00m\n\u001b[1;32m    130\u001b[0m \u001b[38;5;124;03m    using NLTK's recommended word tokenizer\u001b[39;00m\n\u001b[0;32m   (...)\u001b[0m\n\u001b[1;32m    140\u001b[0m \u001b[38;5;124;03m    :type preserve_line: bool\u001b[39;00m\n\u001b[1;32m    141\u001b[0m \u001b[38;5;124;03m    \"\"\"\u001b[39;00m\n\u001b[0;32m--> 142\u001b[0m     sentences \u001b[38;5;241m=\u001b[39m [text] \u001b[38;5;28;01mif\u001b[39;00m preserve_line \u001b[38;5;28;01melse\u001b[39;00m \u001b[43msent_tokenize\u001b[49m\u001b[43m(\u001b[49m\u001b[43mtext\u001b[49m\u001b[43m,\u001b[49m\u001b[43m \u001b[49m\u001b[43mlanguage\u001b[49m\u001b[43m)\u001b[49m\n\u001b[1;32m    143\u001b[0m     \u001b[38;5;28;01mreturn\u001b[39;00m [\n\u001b[1;32m    144\u001b[0m         token \u001b[38;5;28;01mfor\u001b[39;00m sent \u001b[38;5;129;01min\u001b[39;00m sentences \u001b[38;5;28;01mfor\u001b[39;00m token \u001b[38;5;129;01min\u001b[39;00m _treebank_word_tokenizer\u001b[38;5;241m.\u001b[39mtokenize(sent)\n\u001b[1;32m    145\u001b[0m     ]\n",
      "File \u001b[0;32m/Library/Frameworks/Python.framework/Versions/3.12/lib/python3.12/site-packages/nltk/tokenize/__init__.py:119\u001b[0m, in \u001b[0;36msent_tokenize\u001b[0;34m(text, language)\u001b[0m\n\u001b[1;32m    109\u001b[0m \u001b[38;5;28;01mdef\u001b[39;00m \u001b[38;5;21msent_tokenize\u001b[39m(text, language\u001b[38;5;241m=\u001b[39m\u001b[38;5;124m\"\u001b[39m\u001b[38;5;124menglish\u001b[39m\u001b[38;5;124m\"\u001b[39m):\n\u001b[1;32m    110\u001b[0m \u001b[38;5;250m    \u001b[39m\u001b[38;5;124;03m\"\"\"\u001b[39;00m\n\u001b[1;32m    111\u001b[0m \u001b[38;5;124;03m    Return a sentence-tokenized copy of *text*,\u001b[39;00m\n\u001b[1;32m    112\u001b[0m \u001b[38;5;124;03m    using NLTK's recommended sentence tokenizer\u001b[39;00m\n\u001b[0;32m   (...)\u001b[0m\n\u001b[1;32m    117\u001b[0m \u001b[38;5;124;03m    :param language: the model name in the Punkt corpus\u001b[39;00m\n\u001b[1;32m    118\u001b[0m \u001b[38;5;124;03m    \"\"\"\u001b[39;00m\n\u001b[0;32m--> 119\u001b[0m     tokenizer \u001b[38;5;241m=\u001b[39m \u001b[43m_get_punkt_tokenizer\u001b[49m\u001b[43m(\u001b[49m\u001b[43mlanguage\u001b[49m\u001b[43m)\u001b[49m\n\u001b[1;32m    120\u001b[0m     \u001b[38;5;28;01mreturn\u001b[39;00m tokenizer\u001b[38;5;241m.\u001b[39mtokenize(text)\n",
      "File \u001b[0;32m/Library/Frameworks/Python.framework/Versions/3.12/lib/python3.12/site-packages/nltk/tokenize/__init__.py:105\u001b[0m, in \u001b[0;36m_get_punkt_tokenizer\u001b[0;34m(language)\u001b[0m\n\u001b[1;32m     96\u001b[0m \u001b[38;5;129m@functools\u001b[39m\u001b[38;5;241m.\u001b[39mlru_cache\n\u001b[1;32m     97\u001b[0m \u001b[38;5;28;01mdef\u001b[39;00m \u001b[38;5;21m_get_punkt_tokenizer\u001b[39m(language\u001b[38;5;241m=\u001b[39m\u001b[38;5;124m\"\u001b[39m\u001b[38;5;124menglish\u001b[39m\u001b[38;5;124m\"\u001b[39m):\n\u001b[1;32m     98\u001b[0m \u001b[38;5;250m    \u001b[39m\u001b[38;5;124;03m\"\"\"\u001b[39;00m\n\u001b[1;32m     99\u001b[0m \u001b[38;5;124;03m    A constructor for the PunktTokenizer that utilizes\u001b[39;00m\n\u001b[1;32m    100\u001b[0m \u001b[38;5;124;03m    a lru cache for performance.\u001b[39;00m\n\u001b[0;32m   (...)\u001b[0m\n\u001b[1;32m    103\u001b[0m \u001b[38;5;124;03m    :type language: str\u001b[39;00m\n\u001b[1;32m    104\u001b[0m \u001b[38;5;124;03m    \"\"\"\u001b[39;00m\n\u001b[0;32m--> 105\u001b[0m     \u001b[38;5;28;01mreturn\u001b[39;00m \u001b[43mPunktTokenizer\u001b[49m\u001b[43m(\u001b[49m\u001b[43mlanguage\u001b[49m\u001b[43m)\u001b[49m\n",
      "File \u001b[0;32m/Library/Frameworks/Python.framework/Versions/3.12/lib/python3.12/site-packages/nltk/tokenize/punkt.py:1744\u001b[0m, in \u001b[0;36mPunktTokenizer.__init__\u001b[0;34m(self, lang)\u001b[0m\n\u001b[1;32m   1742\u001b[0m \u001b[38;5;28;01mdef\u001b[39;00m \u001b[38;5;21m__init__\u001b[39m(\u001b[38;5;28mself\u001b[39m, lang\u001b[38;5;241m=\u001b[39m\u001b[38;5;124m\"\u001b[39m\u001b[38;5;124menglish\u001b[39m\u001b[38;5;124m\"\u001b[39m):\n\u001b[1;32m   1743\u001b[0m     PunktSentenceTokenizer\u001b[38;5;241m.\u001b[39m\u001b[38;5;21m__init__\u001b[39m(\u001b[38;5;28mself\u001b[39m)\n\u001b[0;32m-> 1744\u001b[0m     \u001b[38;5;28;43mself\u001b[39;49m\u001b[38;5;241;43m.\u001b[39;49m\u001b[43mload_lang\u001b[49m\u001b[43m(\u001b[49m\u001b[43mlang\u001b[49m\u001b[43m)\u001b[49m\n",
      "File \u001b[0;32m/Library/Frameworks/Python.framework/Versions/3.12/lib/python3.12/site-packages/nltk/tokenize/punkt.py:1749\u001b[0m, in \u001b[0;36mPunktTokenizer.load_lang\u001b[0;34m(self, lang)\u001b[0m\n\u001b[1;32m   1746\u001b[0m \u001b[38;5;28;01mdef\u001b[39;00m \u001b[38;5;21mload_lang\u001b[39m(\u001b[38;5;28mself\u001b[39m, lang\u001b[38;5;241m=\u001b[39m\u001b[38;5;124m\"\u001b[39m\u001b[38;5;124menglish\u001b[39m\u001b[38;5;124m\"\u001b[39m):\n\u001b[1;32m   1747\u001b[0m     \u001b[38;5;28;01mfrom\u001b[39;00m \u001b[38;5;21;01mnltk\u001b[39;00m\u001b[38;5;21;01m.\u001b[39;00m\u001b[38;5;21;01mdata\u001b[39;00m \u001b[38;5;28;01mimport\u001b[39;00m find\n\u001b[0;32m-> 1749\u001b[0m     lang_dir \u001b[38;5;241m=\u001b[39m \u001b[43mfind\u001b[49m\u001b[43m(\u001b[49m\u001b[38;5;124;43mf\u001b[39;49m\u001b[38;5;124;43m\"\u001b[39;49m\u001b[38;5;124;43mtokenizers/punkt_tab/\u001b[39;49m\u001b[38;5;132;43;01m{\u001b[39;49;00m\u001b[43mlang\u001b[49m\u001b[38;5;132;43;01m}\u001b[39;49;00m\u001b[38;5;124;43m/\u001b[39;49m\u001b[38;5;124;43m\"\u001b[39;49m\u001b[43m)\u001b[49m\n\u001b[1;32m   1750\u001b[0m     \u001b[38;5;28mself\u001b[39m\u001b[38;5;241m.\u001b[39m_params \u001b[38;5;241m=\u001b[39m load_punkt_params(lang_dir)\n\u001b[1;32m   1751\u001b[0m     \u001b[38;5;28mself\u001b[39m\u001b[38;5;241m.\u001b[39m_lang \u001b[38;5;241m=\u001b[39m lang\n",
      "File \u001b[0;32m/Library/Frameworks/Python.framework/Versions/3.12/lib/python3.12/site-packages/nltk/data.py:579\u001b[0m, in \u001b[0;36mfind\u001b[0;34m(resource_name, paths)\u001b[0m\n\u001b[1;32m    577\u001b[0m sep \u001b[38;5;241m=\u001b[39m \u001b[38;5;124m\"\u001b[39m\u001b[38;5;124m*\u001b[39m\u001b[38;5;124m\"\u001b[39m \u001b[38;5;241m*\u001b[39m \u001b[38;5;241m70\u001b[39m\n\u001b[1;32m    578\u001b[0m resource_not_found \u001b[38;5;241m=\u001b[39m \u001b[38;5;124mf\u001b[39m\u001b[38;5;124m\"\u001b[39m\u001b[38;5;130;01m\\n\u001b[39;00m\u001b[38;5;132;01m{\u001b[39;00msep\u001b[38;5;132;01m}\u001b[39;00m\u001b[38;5;130;01m\\n\u001b[39;00m\u001b[38;5;132;01m{\u001b[39;00mmsg\u001b[38;5;132;01m}\u001b[39;00m\u001b[38;5;130;01m\\n\u001b[39;00m\u001b[38;5;132;01m{\u001b[39;00msep\u001b[38;5;132;01m}\u001b[39;00m\u001b[38;5;130;01m\\n\u001b[39;00m\u001b[38;5;124m\"\u001b[39m\n\u001b[0;32m--> 579\u001b[0m \u001b[38;5;28;01mraise\u001b[39;00m \u001b[38;5;167;01mLookupError\u001b[39;00m(resource_not_found)\n",
      "\u001b[0;31mLookupError\u001b[0m: \n**********************************************************************\n  Resource \u001b[93mpunkt_tab\u001b[0m not found.\n  Please use the NLTK Downloader to obtain the resource:\n\n  \u001b[31m>>> import nltk\n  >>> nltk.download('punkt_tab')\n  \u001b[0m\n  For more information see: https://www.nltk.org/data.html\n\n  Attempted to load \u001b[93mtokenizers/punkt_tab/english/\u001b[0m\n\n  Searched in:\n    - '/Users/jamestreadwell/nltk_data'\n    - '/Library/Frameworks/Python.framework/Versions/3.12/nltk_data'\n    - '/Library/Frameworks/Python.framework/Versions/3.12/share/nltk_data'\n    - '/Library/Frameworks/Python.framework/Versions/3.12/lib/nltk_data'\n    - '/usr/share/nltk_data'\n    - '/usr/local/share/nltk_data'\n    - '/usr/lib/nltk_data'\n    - '/usr/local/lib/nltk_data'\n**********************************************************************\n"
     ]
    }
   ],
   "source": [
    "test_tokenized = word_tokenize(test_text)\n",
    "\n",
    "print(test_tokenized)"
   ]
  }
 ],
 "metadata": {
  "kernelspec": {
   "display_name": "Python 3",
   "language": "python",
   "name": "python3"
  },
  "language_info": {
   "codemirror_mode": {
    "name": "ipython",
    "version": 3
   },
   "file_extension": ".py",
   "mimetype": "text/x-python",
   "name": "python",
   "nbconvert_exporter": "python",
   "pygments_lexer": "ipython3",
   "version": "3.12.0"
  }
 },
 "nbformat": 4,
 "nbformat_minor": 2
}
